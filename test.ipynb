{
 "cells": [
  {
   "cell_type": "code",
   "execution_count": 5,
   "metadata": {},
   "outputs": [
    {
     "name": "stdout",
     "output_type": "stream",
     "text": [
      "('room1', 22.5)\n",
      "('room1', 22.5)\n",
      "('room2', 21.8)\n",
      "('room2', 21.8)\n",
      "('room1', 23.0)\n",
      "('room1', 23.0)\n",
      "('room2', 22.2)\n",
      "('room2', 22.2)\n",
      "('room1', 22.8)\n",
      "('room1', 22.8)\n",
      "('room2', 21.5)\n",
      "('room2', 21.5)\n"
     ]
    }
   ],
   "source": [
    "temperature_data = [\n",
    "    (\"room1\", 22.5),\n",
    "    (\"room2\", 21.8),\n",
    "    (\"room1\", 23.0),\n",
    "    (\"room2\", 22.2),\n",
    "    (\"room1\", 22.8),\n",
    "    (\"room2\", 21.5)\n",
    "]\n",
    "\n",
    "\n",
    "def do_stuff(data):\n",
    "    value_id, value = data \n",
    "    return (value_id), (value)\n",
    "\n",
    "m = map(do_stuff, temperature_data)\n",
    "\n",
    "for item in m:\n",
    "    print(item)\n"
   ]
  }
 ],
 "metadata": {
  "kernelspec": {
   "display_name": "Python 3",
   "language": "python",
   "name": "python3"
  },
  "language_info": {
   "codemirror_mode": {
    "name": "ipython",
    "version": 3
   },
   "file_extension": ".py",
   "mimetype": "text/x-python",
   "name": "python",
   "nbconvert_exporter": "python",
   "pygments_lexer": "ipython3",
   "version": "3.11.1"
  }
 },
 "nbformat": 4,
 "nbformat_minor": 2
}
